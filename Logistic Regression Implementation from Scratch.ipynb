{
 "cells": [
  {
   "cell_type": "code",
   "execution_count": 9,
   "metadata": {},
   "outputs": [],
   "source": [
    "import numpy as np\n",
    "import pandas as pd\n",
    "import math\n"
   ]
  },
  {
   "cell_type": "code",
   "execution_count": 10,
   "metadata": {},
   "outputs": [
    {
     "name": "stdout",
     "output_type": "stream",
     "text": [
      "Dataset view : \n",
      "    Gender  Age Range  Head Size(cm^3)  Brain Weight(grams)\n",
      "0       1          1             4512                 1530\n",
      "1       1          1             3738                 1297\n",
      "2       1          1             4261                 1335\n",
      "3       1          1             3777                 1282\n",
      "4       1          1             4177                 1590\n",
      "5       1          1             3585                 1300\n",
      "6       1          1             3785                 1400\n",
      "7       1          1             3559                 1255 \n",
      "\n",
      "Dataset dimension =  (237, 4) \n",
      "\n",
      "Independent variables in Data = \n",
      " Index(['Gender', 'Age Range', 'Head Size(cm^3)', 'Brain Weight(grams)'], dtype='object') \n",
      "\n",
      "Dataset summary : \n",
      "            Gender   Age Range  Head Size(cm^3)  Brain Weight(grams)\n",
      "count  237.000000  237.000000       237.000000           237.000000\n",
      "mean     1.434599    1.535865      3633.991561          1282.873418\n",
      "std      0.496753    0.499768       365.261422           120.340446\n",
      "min      1.000000    1.000000      2720.000000           955.000000\n",
      "25%      1.000000    1.000000      3389.000000          1207.000000\n",
      "50%      1.000000    2.000000      3614.000000          1280.000000\n",
      "75%      2.000000    2.000000      3876.000000          1350.000000\n",
      "max      2.000000    2.000000      4747.000000          1635.000000 \n",
      "\n",
      "Dataset covarien : \n",
      "                         Gender  Age Range  Head Size(cm^3)  \\\n",
      "Gender                0.246764  -0.022009       -93.271741   \n",
      "Age Range            -0.022009   0.249768       -19.245459   \n",
      "Head Size(cm^3)     -93.271741 -19.245459    133415.906708   \n",
      "Brain Weight(grams) -27.813398 -10.190356     35145.664182   \n",
      "\n",
      "                     Brain Weight(grams)  \n",
      "Gender                        -27.813398  \n",
      "Age Range                     -10.190356  \n",
      "Head Size(cm^3)             35145.664182  \n",
      "Brain Weight(grams)         14481.822892   \n",
      "\n",
      "Dataset data types : \n",
      " Gender                 int64\n",
      "Age Range              int64\n",
      "Head Size(cm^3)        int64\n",
      "Brain Weight(grams)    int64\n",
      "dtype: object \n",
      "\n"
     ]
    }
   ],
   "source": [
    "# test our model with an example\n",
    "\n",
    "headbraindata  = pd.read_csv(\"C:\\\\Users\\\\saham\\\\pythonprograms\\\\headbrain.csv\")\n",
    "\n",
    "print(\"Dataset view : \\n\",headbraindata.head(8),\"\\n\")\n",
    "print(\"Dataset dimension = \",headbraindata.shape,\"\\n\")\n",
    "# let head size be X, and predict brain weight Y\n",
    "print(\"Independent variables in Data = \\n\",headbraindata.columns,\"\\n\")\n",
    "print(\"Dataset summary : \\n\",headbraindata.describe(),\"\\n\")\n",
    "print(\"Dataset covarien : \\n\",headbraindata.cov(),\"\\n\")\n",
    "print(\"Dataset data types : \\n\",headbraindata.dtypes,\"\\n\")"
   ]
  },
  {
   "cell_type": "code",
   "execution_count": 14,
   "metadata": {},
   "outputs": [],
   "source": [
    "X = headbraindata['Head Size(cm^3)'].values\n",
    "X = np.c_[headbraindata['Brain Weight(grams)'].values, X]\n",
    "y = headbraindata[\"Gender\"].values\n",
    "X = np.c_[np.ones((X.shape[0], 1)), X]\n",
    "y = y[:, np.newaxis]\n",
    "theta = np.zeros((X.shape[1], 1))"
   ]
  },
  {
   "cell_type": "code",
   "execution_count": null,
   "metadata": {},
   "outputs": [],
   "source": [
    "# Assume X= independent variabls matrix ,including the all 1's row for Bias\n",
    "#        theta = the coeff vector ,with bias coeff"
   ]
  },
  {
   "cell_type": "code",
   "execution_count": 18,
   "metadata": {},
   "outputs": [
    {
     "ename": "NameError",
     "evalue": "name 'fmin_tnc' is not defined",
     "output_type": "error",
     "traceback": [
      "\u001b[1;31m---------------------------------------------------------------------------\u001b[0m",
      "\u001b[1;31mNameError\u001b[0m                                 Traceback (most recent call last)",
      "\u001b[1;32m<ipython-input-18-fc5a96cd4b19>\u001b[0m in \u001b[0;36m<module>\u001b[1;34m\u001b[0m\n\u001b[0;32m     21\u001b[0m                   fprime=costderivative , args=(x, y.flatten()))\n\u001b[0;32m     22\u001b[0m     \u001b[1;32mreturn\u001b[0m \u001b[0mbestcoeff\u001b[0m\u001b[1;33m[\u001b[0m\u001b[1;36m0\u001b[0m\u001b[1;33m]\u001b[0m\u001b[1;33m\u001b[0m\u001b[1;33m\u001b[0m\u001b[0m\n\u001b[1;32m---> 23\u001b[1;33m \u001b[0mparameters\u001b[0m \u001b[1;33m=\u001b[0m \u001b[0mfit\u001b[0m\u001b[1;33m(\u001b[0m\u001b[0mX\u001b[0m\u001b[1;33m,\u001b[0m \u001b[0my\u001b[0m\u001b[1;33m,\u001b[0m \u001b[0mtheta\u001b[0m\u001b[1;33m)\u001b[0m\u001b[1;33m\u001b[0m\u001b[1;33m\u001b[0m\u001b[0m\n\u001b[0m",
      "\u001b[1;32m<ipython-input-18-fc5a96cd4b19>\u001b[0m in \u001b[0;36mfit\u001b[1;34m(x, y, coeff)\u001b[0m\n\u001b[0;32m     18\u001b[0m \u001b[1;33m\u001b[0m\u001b[0m\n\u001b[0;32m     19\u001b[0m \u001b[1;32mdef\u001b[0m \u001b[0mfit\u001b[0m\u001b[1;33m(\u001b[0m \u001b[0mx\u001b[0m\u001b[1;33m,\u001b[0m \u001b[0my\u001b[0m\u001b[1;33m,\u001b[0m \u001b[0mcoeff\u001b[0m\u001b[1;33m)\u001b[0m\u001b[1;33m:\u001b[0m\u001b[1;33m\u001b[0m\u001b[1;33m\u001b[0m\u001b[0m\n\u001b[1;32m---> 20\u001b[1;33m     bestcoeff = fmin_tnc(func=costfunction, x0=coeff,\n\u001b[0m\u001b[0;32m     21\u001b[0m                   fprime=costderivative , args=(x, y.flatten()))\n\u001b[0;32m     22\u001b[0m     \u001b[1;32mreturn\u001b[0m \u001b[0mbestcoeff\u001b[0m\u001b[1;33m[\u001b[0m\u001b[1;36m0\u001b[0m\u001b[1;33m]\u001b[0m\u001b[1;33m\u001b[0m\u001b[1;33m\u001b[0m\u001b[0m\n",
      "\u001b[1;31mNameError\u001b[0m: name 'fmin_tnc' is not defined"
     ]
    }
   ],
   "source": [
    "\n",
    "def weightedsum(x,coeff):\n",
    "    tx = np.dot(x,coeff)\n",
    "    return tx\n",
    "\n",
    "def logregProb(x,coeff):   # 0 <= yhat <= 1\n",
    "    yhat = 1 / ( 1 + math.exp(-weightedsum(x,coeff)))\n",
    "    return yhat\n",
    "\n",
    "def costfunction(self,coeff, x, y):\n",
    "    m = x.shape[0]\n",
    "    yhat = logregProb(x,coeff)\n",
    "    jcost = (-1/m )*( np.sum( y*np.log(yhat) + (1-y)*( np.log(1-yhat) ) ) )\n",
    "    \n",
    "def costderivative(theta,x,y):\n",
    "    m = x.shape[0]\n",
    "    yhat = logregProb(x,coeff)\n",
    "    slp = (1/m) * (np.dot( yhat-y, x) )  # try (x.T , yhat-y)\n",
    "    \n",
    "def fit( x, y, coeff):\n",
    "    bestcoeff = fmin_tnc(func=costfunction, x0=coeff,\n",
    "                  fprime=costderivative , args=(x, y.flatten()))\n",
    "    return bestcoeff[0]\n",
    "parameters = fit(X, y, theta)"
   ]
  },
  {
   "cell_type": "code",
   "execution_count": null,
   "metadata": {},
   "outputs": [],
   "source": [
    "def predict(self, x):\n",
    "    theta = parameters[:, np.newaxis]\n",
    "    return probability(theta, x)\n",
    "\n",
    "def accuracy(self, x, actual_classes, probab_threshold=0.5):\n",
    "    predicted_classes = (predict(x) >= \n",
    "                         probab_threshold).astype(int)\n",
    "    predicted_classes = predicted_classes.flatten()\n",
    "    accuracy = np.mean(predicted_classes == actual_classes)\n",
    "    return accuracy * 100\n",
    "accuracy(X, y.flatten())"
   ]
  },
  {
   "cell_type": "code",
   "execution_count": null,
   "metadata": {},
   "outputs": [],
   "source": [
    "# Skit-Learn \n",
    "from sklearn.linear_model import LogisticRegressionfrom sklearn.metrics import accuracy_score \n",
    "model = LogisticRegression()\n",
    "model.fit(X, y)\n",
    "predicted_classes = model.predict(X)\n",
    "accuracy = accuracy_score(y.flatten(),predicted_classes)\n",
    "parameters = model.coef_"
   ]
  }
 ],
 "metadata": {
  "kernelspec": {
   "display_name": "Python 3",
   "language": "python",
   "name": "python3"
  },
  "language_info": {
   "codemirror_mode": {
    "name": "ipython",
    "version": 3
   },
   "file_extension": ".py",
   "mimetype": "text/x-python",
   "name": "python",
   "nbconvert_exporter": "python",
   "pygments_lexer": "ipython3",
   "version": "3.7.4"
  }
 },
 "nbformat": 4,
 "nbformat_minor": 2
}
